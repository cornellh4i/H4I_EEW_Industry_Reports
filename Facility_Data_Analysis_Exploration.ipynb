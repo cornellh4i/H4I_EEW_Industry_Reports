{
  "cells": [
    {
      "cell_type": "markdown",
      "metadata": {
        "id": "8ZmwiaIYPZXs"
      },
      "source": [
        "Importing all the necessary items"
      ]
    },
    {
      "cell_type": "code",
      "execution_count": null,
      "metadata": {
        "colab": {
          "base_uri": "https://localhost:8080/"
        },
        "id": "J8M8Wz4ePVG2",
        "outputId": "ba100f46-33e8-40c1-a277-5b8974949245"
      },
      "outputs": [
        {
          "name": "stdout",
          "output_type": "stream",
          "text": [
            "Running on CoLab\n",
            "Cloning into 'EEW_County_ReportCards'...\n",
            "remote: Enumerating objects: 27, done.\u001b[K\n",
            "remote: Counting objects: 100% (27/27), done.\u001b[K\n",
            "remote: Compressing objects: 100% (21/21), done.\u001b[K\n",
            "remote: Total 27 (delta 7), reused 18 (delta 5), pack-reused 0\u001b[K\n",
            "Receiving objects: 100% (27/27), 20.77 MiB | 14.42 MiB/s, done.\n",
            "Resolving deltas: 100% (7/7), done.\n"
          ]
        }
      ],
      "source": [
        "# Bring in github repositories\n",
        "!pip install --upgrade git+https://github.com/edgi-govdata-archiving/ECHO_modules &>/dev/null;\n",
        "!pip install geopandas &>/dev/null;\n",
        "!pip install folium &>/dev/null;\n",
        "\n",
        "if 'google.colab' in str(get_ipython()):\n",
        "    print('Running on CoLab')\n",
        "    !git clone https://github.com/edgi-govdata-archiving/EEW_County_ReportCards.git\n",
        "    %mv /content/EEW_County_ReportCards/Region.py /content\n",
        "    %mv /content/EEW_County_ReportCards/AllPrograms_util.py /content\n",
        "    %mv /content/EEW_County_ReportCards/region.db /content\n",
        "else:\n",
        "    print('Not running on CoLab')\n",
        "\n",
        "# Import libraries\n",
        "import pdb\n",
        "import os\n",
        "import pandas as pd\n",
        "import sqlite3\n",
        "from AllPrograms_util import get_region_rowid\n",
        "from Region import Region"
      ]
    },
    {
      "cell_type": "markdown",
      "metadata": {
        "id": "8N84ujcJV1JB"
      },
      "source": [
        "\n",
        "(Number I) : from county_per_1000, how many counties with below average median inspections per 1000 facilities (CWA, RCRA, CAA) (and where?) (below average in reference to the nationwide rate and below average in reference to that state's statewide rate, available)"
      ]
    },
    {
      "cell_type": "code",
      "execution_count": null,
      "metadata": {
        "colab": {
          "base_uri": "https://localhost:8080/"
        },
        "id": "zoqSdkpJVkIo",
        "outputId": "67a5b172-68df-4567-851b-da40b24e752c"
      },
      "outputs": [
        {
          "name": "stdout",
          "output_type": "stream",
          "text": [
            "The number of counties with below average median inspections per 1000 CAA facilities with respect to the national average is 2941\n",
            "The number of counties with below average median inspections per 1000 CWA facilities with respect to the national average is 3243\n",
            "The number of counties with below average median inspections per 1000 RCRA facilities with respect to the national average is 3053\n",
            "The number of counties with below average median inspections per 1000 CAA facilities with respect to the state average is 1758\n",
            "The number of counties with below average median inspections per 1000 CWA facilities with respect to the state average is 1151\n",
            "The number of counties with below average median inspections per 1000 RCRA facilities with respect to the state average is 1022\n"
          ]
        }
      ],
      "source": [
        "def natl_avg_calc(facility):\n",
        "  '''\n",
        "  RETURNS the national average of inspections per 1000 facilities.\n",
        "\n",
        "  REQUIRES facility be the string representation type of facility to sort\n",
        "  (CWA, RCRA, CAA)\n",
        "  '''\n",
        "  con = sqlite3.connect(\"region.db\")\n",
        "  cur = con.cursor()\n",
        "\n",
        "  column = facility + \".Insp.per.1000\"\n",
        "  sql = f\"select avg([{column}]) from county_per_1000\"\n",
        "\n",
        "  cur.execute(sql)\n",
        "  avg = cur.fetchone()[0]\n",
        "\n",
        "  cur.close()\n",
        "  con.close()\n",
        "  return avg\n",
        "\n",
        "CAA_national_average = natl_avg_calc(\"CAA\")\n",
        "CWA_national_average = natl_avg_calc(\"CWA\")\n",
        "RCRA_national_average = natl_avg_calc(\"RCRA\")\n",
        "\n",
        "def state_avg_calc(facility):\n",
        "  '''\n",
        "  RETURNS the state average of inspections per 1000 facilities.\n",
        "\n",
        "  REQUIRES facility be the string representation type of facility to sort\n",
        "  (CWA, RCRA, CAA)\n",
        "  '''\n",
        "  con = sqlite3.connect(\"region.db\")\n",
        "  cur = con.cursor()\n",
        "\n",
        "  column = facility + \".Insp.per.1000\"\n",
        "  sql = f\"select [CD.State] as state, avg([{column}]) as average from state_per_1000 group by state;\"\n",
        "  cur.execute(sql)\n",
        "  rows = cur.fetchall()\n",
        "\n",
        "  cur.close()\n",
        "  con.close()\n",
        "  return {row[0]: row[1] for row in rows}\n",
        "\n",
        "CAA_state_averages_map = state_avg_calc(\"CAA\")\n",
        "CWA_state_averages_map = state_avg_calc(\"CWA\")\n",
        "RCRA_state_averages_map = state_avg_calc(\"RCRA\")\n",
        "\n",
        "def less_than_natl(facility, avg):\n",
        "  '''\n",
        "  RETURNS the number of facilities that are less than national average of\n",
        "  inspections per 1000 facilities.\n",
        "\n",
        "  REQUIRES facility be the string representation type of facility to sort\n",
        "  (CWA, RCRA, CAA) and avg be a float of the national average.\n",
        "  '''\n",
        "  con = sqlite3.connect(\"region.db\")\n",
        "  cur = con.cursor()\n",
        "\n",
        "  column = facility + \".Insp.per.1000\"\n",
        "  sql = f\"select count(*) from county_per_1000 where [{column}] < {avg}\"\n",
        "  cur.execute(sql)\n",
        "  count = cur.fetchone()[0]\n",
        "\n",
        "  sql = f\"select [CD.State] from county_per_1000 where [{column}] < {avg}\"\n",
        "  cur.execute(sql)\n",
        "  list_of_counties = [county for county in cur]\n",
        "\n",
        "  cur.close()\n",
        "  con.close()\n",
        "  return count, list_of_counties\n",
        "\n",
        "CAA_less_than_natl = less_than_natl(\"CAA\", CAA_national_average)\n",
        "print(\"The number of counties with below average median inspections per 1000 CAA facilities with respect to the national average is \" + str(CAA_less_than_natl[0]))\n",
        "print(f\"These counties are {CAA_less_than_natl[1]}\",end='\\n\\n')\n",
        "CWA_less_than_natl = less_than_natl(\"CWA\", CWA_national_average)\n",
        "print(\"The number of counties with below average median inspections per 1000 CWA facilities with respect to the national average is \" + str(CWA_less_than_natl[0]))\n",
        "print(f\"These counties are {CWA_less_than_natl[1]}\",end='\\n\\n')\n",
        "RCRA_less_than_natl = less_than_natl(\"RCRA\", RCRA_national_average)\n",
        "print(\"The number of counties with below average median inspections per 1000 RCRA facilities with respect to the national average is \" + str(RCRA_less_than_natl[0]))\n",
        "print(f\"These counties are {RCRA_less_than_natl[1]}\",end='\\n\\n')\n",
        "\n",
        "def less_than_state(facility, avg):\n",
        "\n",
        "  '''\n",
        "  RETURNS the number of facilities that are less than state average of\n",
        "  inspections per 1000 facilities for whatever state the county is in.\n",
        "\n",
        "  REQUIRES facility be the string representation type of facility to sort\n",
        "  (CWA, RCRA, CAA) and avg be a map of states to their average inspections per 1000 facilities.\n",
        "  '''\n",
        "\n",
        "  con = sqlite3.connect(\"region.db\")\n",
        "  cur = con.cursor()\n",
        "  count = 0\n",
        "  for key in avg:\n",
        "    val = avg[key]\n",
        "    column = facility + \".Insp.per.1000\"\n",
        "    sql = f\"select count(*) from county_per_1000 where [{column}] < {val} and substr([CD.state], 1, 2) = '{key}'\"\n",
        "    cur.execute(sql)\n",
        "    state_count = cur.fetchone()[0]\n",
        "    count += state_count\n",
        "\n",
        "\n",
        "    sql = f\"select [CD.State] from county_per_1000 where [{column}] < {val} and substr([CD.state], 1, 2) = '{key}'\"\n",
        "    cur.execute(sql)\n",
        "    list_of_counties = [county for county in cur]\n",
        "    print(list_of_counties)\n",
        "\n",
        "  cur.close()\n",
        "  con.close()\n",
        "  return count\n",
        "\n",
        "CAA_less_than_state = less_than_state(\"CAA\", CAA_state_averages_map)\n",
        "print(\"The number of counties with below average median inspections per 1000 CAA facilities with respect to the state average is \" + str(CAA_less_than_state),end=\"\\n\\n\")\n",
        "CWA_less_than_state = less_than_state(\"CWA\", CWA_state_averages_map)\n",
        "print(\"The number of counties with below average median inspections per 1000 CWA facilities with respect to the state average is \" + str(CWA_less_than_state),end=\"\\n\\n\")\n",
        "RCRA_less_than_state = less_than_state(\"RCRA\", RCRA_state_averages_map)\n",
        "print(\"The number of counties with below average median inspections per 1000 RCRA facilities with respect to the state average is \" + str(RCRA_less_than_state),end=\"\\n\\n\")"
      ]
    },
    {
      "cell_type": "markdown",
      "metadata": {
        "id": "hBe-jEi59rdR"
      },
      "source": [
        "(Number II): from county_per_1000, how many counties with below average median enforcement actions per 1000 facilities (CWA, RCRA, CAA) (and where?) (below average in reference to the nationwide rate and below average in reference to that state's statewide rate, available from state_per_1000)"
      ]
    },
    {
      "cell_type": "code",
      "execution_count": null,
      "metadata": {
        "colab": {
          "base_uri": "https://localhost:8080/"
        },
        "id": "xYPCpdBZOzXY",
        "outputId": "5bacca26-854f-488e-a0d3-ad63263c738b"
      },
      "outputs": [
        {
          "name": "stdout",
          "output_type": "stream",
          "text": [
            "The number of counties with below average median enforcements per 1000 CAA facilities with respect to the national average is 3157\n",
            "The number of counties with below average median enforcements per 1000 CWA facilities with respect to the national average is 3088\n",
            "The number of counties with below average median enforcements per 1000 RCRA facilities with respect to the national average is 3002\n",
            "The number of counties with below average median enforcements per 1000 CAA facilities with respect to the state average is 1910\n",
            "The number of counties with below average median enforcements per 1000 CWA facilities with respect to the state average is 1318\n",
            "The number of counties with below average median enforcements per 1000 RCRA facilities with respect to the state average is 1074\n"
          ]
        }
      ],
      "source": [
        "def natl_avg_calc_enf(facility):\n",
        "  '''\n",
        "  RETURNS the national average of inspections per 1000 facilities.\n",
        "\n",
        "  REQUIRES facility be the string representation type of facility to sort\n",
        "  (CWA, RCRA, CAA)\n",
        "  '''\n",
        "  con = sqlite3.connect(\"region.db\")\n",
        "  cur = con.cursor()\n",
        "\n",
        "  column = facility + \".Enf.per.1000\"\n",
        "  sql = f\"select avg([{column}]) from county_per_1000\"\n",
        "\n",
        "  cur.execute(sql)\n",
        "  avg = cur.fetchone()[0]\n",
        "  \n",
        "\n",
        "  cur.close()\n",
        "  con.close()\n",
        "  return avg\n",
        "\n",
        "CAA_national_average_enf = natl_avg_calc_enf(\"CAA\")\n",
        "CWA_national_average_enf = natl_avg_calc_enf(\"CWA\")\n",
        "RCRA_national_average_enf = natl_avg_calc_enf(\"RCRA\")\n",
        "\n",
        "def less_than_natl_enf(facility, avg):\n",
        "\n",
        "  '''\n",
        "  RETURNS the number of facilities that are less than national average of\n",
        "  inspections per 1000 facilities.\n",
        "\n",
        "  REQUIRES facility be the string representation type of facility to sort\n",
        "  (CWA, RCRA, CAA) and avg be a float of the national average.\n",
        "  '''\n",
        "\n",
        "  con = sqlite3.connect(\"region.db\")\n",
        "  cur = con.cursor()\n",
        "\n",
        "  column = facility + \".Enf.per.1000\"\n",
        "  sql = f\"select count(*) from county_per_1000 where [{column}] < {avg}\"\n",
        "  cur.execute(sql)\n",
        "  count = cur.fetchone()[0]\n",
        "\n",
        "  sql = f\"select [CD.State] from county_per_1000 where [{column}] < {avg}\"\n",
        "  cur.execute(sql)\n",
        "  list_of_counties = [county for county in cur]\n",
        "\n",
        "  cur.close()\n",
        "  con.close()\n",
        "  return count, list_of_counties\n",
        "\n",
        "CAA_less_than_natl_enf = less_than_natl_enf(\"CAA\", CAA_national_average_enf)\n",
        "print(\"The number of counties with below average median enforcements per 1000 CAA facilities with respect to the national average is \" + str(CAA_less_than_natl_enf))\n",
        "CWA_less_than_natl_enf = less_than_natl_enf(\"CWA\", CWA_national_average_enf)\n",
        "print(\"The number of counties with below average median enforcements per 1000 CWA facilities with respect to the national average is \" + str(CWA_less_than_natl_enf))\n",
        "RCRA_less_than_natl_enf = less_than_natl_enf(\"RCRA\", RCRA_national_average_enf)\n",
        "print(\"The number of counties with below average median enforcements per 1000 RCRA facilities with respect to the national average is \" + str(RCRA_less_than_natl_enf))\n",
        "\n",
        "def state_avg_calc_enf(facility):\n",
        "  '''\n",
        "  RETURNS the state average of inspections per 1000 facilities.\n",
        "\n",
        "  REQUIRES facility be the string representation type of facility to sort\n",
        "  (CWA, RCRA, CAA)\n",
        "  '''\n",
        "  con = sqlite3.connect(\"region.db\")\n",
        "  cur = con.cursor()\n",
        "\n",
        "  column = facility + \".Enf.per.1000\"\n",
        "  sql = f\"select [CD.State] as state, avg([{column}]) as average from state_per_1000 group by state;\"\n",
        "  cur.execute(sql)\n",
        "  rows = cur.fetchall()\n",
        "\n",
        "  cur.close()\n",
        "  con.close()\n",
        "  return {row[0]: row[1] for row in rows}\n",
        "\n",
        "CAA_state_averages_map_enf = state_avg_calc_enf(\"CAA\")\n",
        "CWA_state_averages_map_enf = state_avg_calc_enf(\"CWA\")\n",
        "RCRA_state_averages_map_enf = state_avg_calc_enf(\"RCRA\")\n",
        "\n",
        "def less_than_state_enf(facility, avg):\n",
        "\n",
        "  '''\n",
        "  RETURNS the number of facilities that are less than state average of\n",
        "  enforcement actions per 1000 facilities for whatever state the county is in.\n",
        "\n",
        "  REQUIRES facility be the string representation type of facility to sort\n",
        "  (CWA, RCRA, CAA) and avg be a map of states to their average enforcement actions per 1000 facilities.\n",
        "  '''\n",
        "\n",
        "\n",
        "  con = sqlite3.connect(\"region.db\")\n",
        "  cur = con.cursor()\n",
        "\n",
        "  count = 0\n",
        "  for key in avg:\n",
        "    val = avg[key]\n",
        "    column = facility + \".Enf.per.1000\"\n",
        "    sql = f\"select count(*) from county_per_1000 where [{column}] < {val} and substr([CD.state], 1, 2) = '{key}'\"\n",
        "    cur.execute(sql)\n",
        "    state_count = cur.fetchone()[0]\n",
        "    count += state_count\n",
        "\n",
        "    sql = f\"select [CD.State] from county_per_1000 where [{column}] < {val} and substr([CD.state], 1, 2) = '{key}'\"\n",
        "    cur.execute(sql)\n",
        "    list_of_counties = [county for county in cur]\n",
        "    print(list_of_counties)\n",
        "\n",
        "  cur.close()\n",
        "  con.close()\n",
        "  return count\n",
        "\n",
        "CAA_less_than_state_enf = less_than_state_enf(\"CAA\", CAA_state_averages_map_enf)\n",
        "print(\"The number of counties with below average median enforcements per 1000 CAA facilities with respect to the state average is \" + str(CAA_less_than_state_enf),end=\"\\n\\n\")\n",
        "CWA_less_than_state_enf = less_than_state_enf(\"CWA\", CWA_state_averages_map_enf)\n",
        "print(\"The number of counties with below average median enforcements per 1000 CWA facilities with respect to the state average is \" + str(CWA_less_than_state_enf),end=\"\\n\\n\")\n",
        "RCRA_less_than_state_enf = less_than_state_enf(\"RCRA\", RCRA_state_averages_map_enf)\n",
        "print(\"The number of counties with below average median enforcements per 1000 RCRA facilities with respect to the state average is \" + str(RCRA_less_than_state_enf),end=\"\\n\\n\")"
      ]
    },
    {
      "cell_type": "markdown",
      "metadata": {
        "id": "kh_toE5aXz2p"
      },
      "source": [
        "(Number III): from violations_by_facilities, how many counties with a large share of facilities(greater than 75% of the other counties) with 12 or 13 noncomp quarters (quarters in non-compliance)?"
      ]
    },
    {
      "cell_type": "code",
      "execution_count": null,
      "metadata": {
        "colab": {
          "base_uri": "https://localhost:8080/"
        },
        "id": "mwoKR1AmX2oZ",
        "outputId": "9b9252e2-e5b0-4fec-d2d6-e8ee7a425d99"
      },
      "outputs": [
        {
          "name": "stdout",
          "output_type": "stream",
          "text": [
            "The number of counties with a large share of facilites with 12 or 13 noncomp quarteres is 493\n"
          ]
        }
      ],
      "source": [
        "conn = sqlite3.connect(\"region.db\")\n",
        "cur = conn.cursor()\n",
        "\n",
        "sql = 'select sum(noncomp_qtrs = 12 or noncomp_qtrs = 13)'\n",
        "sql += ' from (select noncomp_qtrs from violations_by_facilities'\n",
        "sql += ' order by num_facilities desc'\n",
        "sql += ' limit (select count(*)/4 from violations_by_facilities)) as subquery'\n",
        "\n",
        "cur.execute(sql)\n",
        "result = cur.fetchone()[0]\n",
        "cur.close()\n",
        "conn.close()\n",
        "print(\"The number of counties with a large share of facilites with 12 or 13 noncomp quarteres is \" + str(result))"
      ]
    }
  ],
  "metadata": {
    "colab": {
      "provenance": []
    },
    "kernelspec": {
      "display_name": "Python 3",
      "name": "python3"
    },
    "language_info": {
      "name": "python"
    }
  },
  "nbformat": 4,
  "nbformat_minor": 0
}
